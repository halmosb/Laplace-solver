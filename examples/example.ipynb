{
 "cells": [
  {
   "cell_type": "code",
   "execution_count": 9,
   "id": "6016ab1c",
   "metadata": {},
   "outputs": [],
   "source": [
    "import numpy as np\n",
    "import pandas as pd\n",
    "import matplotlib.pyplot as plt\n",
    "\n",
    "from functions import *\n",
    "from jacobi import *"
   ]
  },
  {
   "cell_type": "code",
   "execution_count": 10,
   "id": "531fe0e4",
   "metadata": {},
   "outputs": [],
   "source": [
    "%load_ext autoreload\n",
    "%autoreload 2"
   ]
  },
  {
   "cell_type": "code",
   "execution_count": 97,
   "id": "6352581c",
   "metadata": {},
   "outputs": [
    {
     "name": "stdout",
     "output_type": "stream",
     "text": [
      "-- The C compiler identification is GNU 13.3.0\n",
      "-- The CXX compiler identification is GNU 13.3.0\n",
      "-- Detecting C compiler ABI info\n",
      "-- Detecting C compiler ABI info - done\n",
      "-- Check for working C compiler: /usr/bin/cc - skipped\n",
      "-- Detecting C compile features\n",
      "-- Detecting C compile features - done\n",
      "-- Detecting CXX compiler ABI info\n",
      "-- Detecting CXX compiler ABI info - done\n",
      "-- Check for working CXX compiler: /usr/bin/c++ - skipped\n",
      "-- Detecting CXX compile features\n",
      "-- Detecting CXX compile features - done\n",
      "-- Found Boost: /usr/lib/x86_64-linux-gnu/cmake/Boost-1.83.0/BoostConfig.cmake (found version \"1.83.0\") found components: program_options \n",
      "-- HDF5 CXX compiler wrapper is unable to compile a minimal HDF5 program.\n",
      "-- Found HDF5: /usr/lib/x86_64-linux-gnu/hdf5/serial/libhdf5_cpp.so;/usr/lib/x86_64-linux-gnu/hdf5/serial/libhdf5.so (found version \"1.10.10\") found components: CXX \n",
      "-- Found OpenMP_C: -fopenmp (found version \"4.5\") \n",
      "-- Found OpenMP_CXX: -fopenmp (found version \"4.5\") \n",
      "-- Found OpenMP: TRUE (found version \"4.5\")  \n",
      "-- Found Python3: /home/balazs/anaconda3/envs/CompPhys/bin/python3 (found version \"3.9.18\") found components: Interpreter \n",
      "-- Performing Test CMAKE_HAVE_LIBC_PTHREAD\n",
      "-- Performing Test CMAKE_HAVE_LIBC_PTHREAD - Success\n",
      "-- Found Threads: TRUE  \n",
      "-- Test source: /home/balazs/Desktop/University/Research/Practice/Laplace/test/test_HDF5Writer.cpp\n",
      "-- Test source: /home/balazs/Desktop/University/Research/Practice/Laplace/test/test_filehandler.cpp\n",
      "-- Test source: /home/balazs/Desktop/University/Research/Practice/Laplace/test/test_parser.cpp\n",
      "-- Test source: /home/balazs/Desktop/University/Research/Practice/Laplace/test/test_utilities.cpp\n",
      "-- Configuring done (3.8s)\n",
      "-- Generating done (0.0s)\n",
      "-- Build files have been written to: /home/balazs/Desktop/University/Research/Practice/Laplace/build\n",
      "[  3%] \u001b[32mBuilding CXX object _deps/googletest-build/googletest/CMakeFiles/gtest.dir/src/gtest-all.cc.o\u001b[0m\n",
      "[  7%] \u001b[32mBuilding CXX object src/CMakeFiles/laplace_lib.dir/filehandler.cpp.o\u001b[0m\n",
      "[ 15%] \u001b[32mBuilding CXX object src/CMakeFiles/laplace_lib.dir/calculator.cpp.o\u001b[0m\n",
      "[ 15%] \u001b[32mBuilding CXX object src/CMakeFiles/laplace_lib.dir/parser.cpp.o\u001b[0m\n",
      "[ 19%] \u001b[32mBuilding CXX object src/CMakeFiles/laplace_lib.dir/utilities.cpp.o\u001b[0m\n",
      "[ 23%] \u001b[32mBuilding CXX object src/CMakeFiles/laplace_lib.dir/HDF5Writer.cpp.o\u001b[0m\n",
      "[ 26%] \u001b[32m\u001b[1mLinking CXX static library liblaplace_lib.a\u001b[0m\n",
      "[ 26%] Built target laplace_lib\n",
      "[ 30%] \u001b[32mBuilding CXX object src/CMakeFiles/laplace.dir/main.cpp.o\u001b[0m\n",
      "[ 34%] \u001b[32mBuilding CXX object src/CMakeFiles/laplace_serial.dir/main.cpp.o\u001b[0m\n",
      "[ 38%] \u001b[32m\u001b[1mLinking CXX executable laplace_serial\u001b[0m\n",
      "[ 42%] \u001b[32m\u001b[1mLinking CXX executable laplace\u001b[0m\n",
      "[ 42%] Built target laplace\n",
      "[ 42%] Built target laplace_serial\n",
      "[ 46%] \u001b[32m\u001b[1mLinking CXX static library ../../../lib/libgtest.a\u001b[0m\n",
      "[ 46%] Built target gtest\n",
      "[ 53%] \u001b[32mBuilding CXX object _deps/googletest-build/googletest/CMakeFiles/gtest_main.dir/src/gtest_main.cc.o\u001b[0m\n",
      "[ 53%] \u001b[32mBuilding CXX object _deps/googletest-build/googlemock/CMakeFiles/gmock.dir/src/gmock-all.cc.o\u001b[0m\n",
      "[ 57%] \u001b[32m\u001b[1mLinking CXX static library ../../../lib/libgtest_main.a\u001b[0m\n",
      "[ 57%] Built target gtest_main\n",
      "[ 61%] \u001b[32mBuilding CXX object test/CMakeFiles/test_parser.dir/test_parser.cpp.o\u001b[0m\n",
      "[ 65%] \u001b[32mBuilding CXX object test/CMakeFiles/test_filehandler.dir/test_filehandler.cpp.o\u001b[0m\n",
      "[ 69%] \u001b[32mBuilding CXX object test/CMakeFiles/test_HDF5Writer.dir/test_HDF5Writer.cpp.o\u001b[0m\n",
      "[ 73%] \u001b[32m\u001b[1mLinking CXX executable test_filehandler\u001b[0m\n",
      "[ 73%] Built target test_filehandler\n",
      "[ 76%] \u001b[32mBuilding CXX object test/CMakeFiles/test_utilities.dir/test_utilities.cpp.o\u001b[0m\n",
      "[ 80%] \u001b[32m\u001b[1mLinking CXX executable test_utilities\u001b[0m\n",
      "[ 84%] \u001b[32m\u001b[1mLinking CXX executable test_HDF5Writer\u001b[0m\n",
      "[ 84%] Built target test_utilities\n",
      "[ 84%] Built target test_HDF5Writer\n",
      "[ 88%] \u001b[32m\u001b[1mLinking CXX static library ../../../lib/libgmock.a\u001b[0m\n",
      "[ 88%] Built target gmock\n",
      "[ 92%] \u001b[32mBuilding CXX object _deps/googletest-build/googlemock/CMakeFiles/gmock_main.dir/src/gmock_main.cc.o\u001b[0m\n",
      "[ 96%] \u001b[32m\u001b[1mLinking CXX executable test_parser\u001b[0m\n",
      "[ 96%] Built target test_parser\n",
      "[100%] \u001b[32m\u001b[1mLinking CXX static library ../../../lib/libgmock_main.a\u001b[0m\n",
      "[100%] Built target gmock_main\n",
      "/home/balazs/Desktop/University/Research/Practice/Laplace/examples\n"
     ]
    }
   ],
   "source": [
    "%%bash\n",
    "rm -rf ../build/\n",
    "mkdir -p ../build\n",
    "cd ../build\n",
    "cmake ../ -DCMAKE_BUILD_TYPE=Release\n",
    "cmake --build . -j4\n",
    "cd -"
   ]
  },
  {
   "cell_type": "code",
   "execution_count": 89,
   "id": "d202c15f",
   "metadata": {},
   "outputs": [
    {
     "name": "stdout",
     "output_type": "stream",
     "text": [
      "Test project /home/balazs/Desktop/University/Research/Practice/Laplace/build\n",
      "      Start  1: HDF5WriterTest.WritesParametersCorrectly\n",
      " 1/13 Test  #1: HDF5WriterTest.WritesParametersCorrectly ......   Passed    0.02 sec\n",
      "      Start  2: HDF5WriterTest.WritesResultDatasetCorrectly\n",
      " 2/13 Test  #2: HDF5WriterTest.WritesResultDatasetCorrectly ...   Passed    0.01 sec\n",
      "      Start  3: HDF5WriterTest.CreatesExpectedFileStructure\n",
      " 3/13 Test  #3: HDF5WriterTest.CreatesExpectedFileStructure ...   Passed    0.02 sec\n",
      "      Start  4: HDF5WriterTest.OverwritesFileOnCreation\n",
      " 4/13 Test  #4: HDF5WriterTest.OverwritesFileOnCreation .......   Passed    0.01 sec\n",
      "      Start  5: ParserTest.HelpMessageReturnsFalse\n",
      " 5/13 Test  #5: ParserTest.HelpMessageReturnsFalse ............   Passed    0.00 sec\n",
      "      Start  6: ParserTest.MissingRequiredArgsThrows\n",
      " 6/13 Test  #6: ParserTest.MissingRequiredArgsThrows ..........   Passed    0.01 sec\n",
      "      Start  7: ParserTest.ParsesRequiredArguments\n",
      " 7/13 Test  #7: ParserTest.ParsesRequiredArguments ............   Passed    0.00 sec\n",
      "      Start  8: ParserTest.ParsesAllArguments\n",
      " 8/13 Test  #8: ParserTest.ParsesAllArguments .................   Passed    0.00 sec\n",
      "      Start  9: ParserTest.ParsesFromConfigFile\n",
      " 9/13 Test  #9: ParserTest.ParsesFromConfigFile ...............   Passed    0.01 sec\n",
      "      Start 10: ParserTest.ConfigFileMissingThrows\n",
      "10/13 Test #10: ParserTest.ConfigFileMissingThrows ............   Passed    0.01 sec\n",
      "      Start 11: UtilitiesTest.PrintMatrix_2x2\n",
      "11/13 Test #11: UtilitiesTest.PrintMatrix_2x2 .................   Passed    0.01 sec\n",
      "      Start 12: UtilitiesTest.PrintMatrix_EmptyMatrix\n",
      "12/13 Test #12: UtilitiesTest.PrintMatrix_EmptyMatrix .........   Passed    0.01 sec\n",
      "      Start 13: UtilitiesTest.PrintMatrix_1x3\n",
      "13/13 Test #13: UtilitiesTest.PrintMatrix_1x3 .................   Passed    0.01 sec\n",
      "\n",
      "\u001b[0;32m100% tests passed\u001b[0;0m, 0 tests failed\u001b[0;0m out of 13\n",
      "\n",
      "Total Test time (real) =   0.14 sec\n",
      "/home/balazs/Desktop/University/Research/Practice/Laplace/examples\n"
     ]
    }
   ],
   "source": [
    "%%bash\n",
    "cd ../build/\n",
    "ctest --output-on-failure\n",
    "cd -"
   ]
  },
  {
   "cell_type": "code",
   "execution_count": 83,
   "id": "2b3e21ec",
   "metadata": {},
   "outputs": [],
   "source": [
    "generate_ex1(3000, 6500, \"Data\")"
   ]
  },
  {
   "cell_type": "code",
   "execution_count": 98,
   "id": "03965051",
   "metadata": {},
   "outputs": [
    {
     "name": "stdout",
     "output_type": "stream",
     "text": [
      "OpenMP NOT enabled.\n",
      "Results saved to file: ../examples/Data/N1000_M500_res_serial, using 242 iterations.\n",
      "bye\n",
      "\n",
      "real\t0m20,578s\n",
      "user\t1m41,756s\n",
      "sys\t0m0,781s\n"
     ]
    }
   ],
   "source": [
    "!time ../build/src/laplace_serial --config ../examples/config.txt --result-path ../examples/Data/N1000_M500_res_serial"
   ]
  },
  {
   "cell_type": "code",
   "execution_count": 99,
   "id": "d066ce9d",
   "metadata": {},
   "outputs": [
    {
     "name": "stdout",
     "output_type": "stream",
     "text": [
      "OpenMP enabled. Threads: 1\n",
      "Results saved to file: ../examples/Data/N2000_M3500_res_openMP_1, using 242 iterations.\n",
      "bye\n"
     ]
    },
    {
     "name": "stderr",
     "output_type": "stream",
     "text": [
      "\n",
      "real\t0m46,816s\n",
      "user\t0m46,228s\n",
      "sys\t0m0,548s\n"
     ]
    }
   ],
   "source": [
    "%%bash\n",
    "export OMP_NUM_THREADS=1\n",
    "time ../build/src/laplace --config ../examples/config.txt --result-path ../examples/Data/N2000_M3500_res_openMP_1"
   ]
  },
  {
   "cell_type": "code",
   "execution_count": 100,
   "id": "ff80a3df",
   "metadata": {},
   "outputs": [
    {
     "name": "stdout",
     "output_type": "stream",
     "text": [
      "OpenMP enabled. Threads: 2\n",
      "Results saved to file: ../examples/Data/N2000_M3500_res_openMP_2, using 242 iterations.\n",
      "bye\n"
     ]
    },
    {
     "name": "stderr",
     "output_type": "stream",
     "text": [
      "\n",
      "real\t0m30,702s\n",
      "user\t0m48,653s\n",
      "sys\t0m0,640s\n"
     ]
    }
   ],
   "source": [
    "%%bash\n",
    "export OMP_NUM_THREADS=2\n",
    "time ../build/src/laplace --config ../examples/config.txt --result-path ../examples/Data/N2000_M3500_res_openMP_2"
   ]
  },
  {
   "cell_type": "code",
   "execution_count": 101,
   "id": "b2f6c505",
   "metadata": {},
   "outputs": [
    {
     "name": "stdout",
     "output_type": "stream",
     "text": [
      "OpenMP NOT enabled.\n",
      "Results saved to file: ../examples/Data/N2000_M3500_res_openMP_3, using 242 iterations.\n",
      "bye\n"
     ]
    },
    {
     "name": "stderr",
     "output_type": "stream",
     "text": [
      "\n",
      "real\t0m24,255s\n",
      "user\t0m48,301s\n",
      "sys\t0m0,628s\n"
     ]
    }
   ],
   "source": [
    "%%bash\n",
    "export OMP_NUM_THREADS=3\n",
    "time ../build/src/laplace_serial --config ../examples/config.txt --result-path ../examples/Data/N2000_M3500_res_openMP_3"
   ]
  },
  {
   "cell_type": "code",
   "execution_count": 102,
   "id": "ce520874",
   "metadata": {},
   "outputs": [
    {
     "name": "stdout",
     "output_type": "stream",
     "text": [
      "OpenMP enabled. Threads: 4\n",
      "Results saved to file: ../examples/Data/N2000_M3500_res_openMP_4, using 242 iterations.\n",
      "bye\n"
     ]
    },
    {
     "name": "stderr",
     "output_type": "stream",
     "text": [
      "\n",
      "real\t0m22,170s\n",
      "user\t0m50,347s\n",
      "sys\t0m0,715s\n"
     ]
    }
   ],
   "source": [
    "%%bash\n",
    "export OMP_NUM_THREADS=4\n",
    "time ../build/src/laplace --config ../examples/config.txt --result-path ../examples/Data/N2000_M3500_res_openMP_4"
   ]
  },
  {
   "cell_type": "code",
   "execution_count": 24,
   "id": "f3de7ad2",
   "metadata": {},
   "outputs": [
    {
     "name": "stdout",
     "output_type": "stream",
     "text": [
      "Laplace equation solver\n",
      "The used parameters are:\n",
      "\tN: 10\n",
      "\ttol: 0.001\n",
      "\tmax iter: 500\n",
      "\tinitial state path: ../examples/Data/N10_M15_data.csv\n",
      "\tresult path: ../examples/Data/N10_M15_res_python.csv\n",
      "\tmask path: ../examples/Data/N10_M15_mask.csv\n",
      "\toutput: 2\n",
      "\tconfig path: config.txt\n",
      "Calulation finished after 55 iterations, the result is:\n",
      "[[1.         0.         0.         0.         0.         0.\n",
      "  0.         0.         0.         0.         0.         0.\n",
      "  0.         0.         0.        ]\n",
      " [1.         0.48496789 0.27360205 0.16921814 0.10965825 0.07240704\n",
      "  0.04793548 0.03151363 0.02044507 0.01302333 0.0080956  0.0048491\n",
      "  0.00269594 0.00119569 0.        ]\n",
      " [1.         0.666651   0.4409467  0.29461219 0.19819095 0.1333057\n",
      "  0.08908532 0.05885656 0.0382857  0.02442409 0.01519488 0.00910603\n",
      "  0.00506383 0.00224628 0.        ]\n",
      " [1.         0.74140569 0.53028459 0.37197032 0.25741348 0.17592622\n",
      "  0.11862171 0.07876175 0.05137831 0.03282834 0.02044248 0.01225705\n",
      "  0.00681833 0.00302494 0.        ]\n",
      " [1.         0.76965288 0.56865072 0.40810225 0.28656297 0.19758212\n",
      "  0.13391518 0.08918396 0.05827767 0.03727437 0.02322441 0.01392996\n",
      "  0.00775032 0.00343882 0.        ]\n",
      " [1.         0.76965288 0.56865072 0.40810225 0.28656297 0.19758212\n",
      "  0.13391518 0.08918396 0.05827767 0.03727437 0.02322441 0.01392996\n",
      "  0.00775032 0.00343882 0.        ]\n",
      " [1.         0.74140569 0.53028459 0.37197032 0.25741348 0.17592622\n",
      "  0.11862171 0.07876175 0.05137831 0.03282834 0.02044248 0.01225705\n",
      "  0.00681833 0.00302494 0.        ]\n",
      " [1.         0.666651   0.4409467  0.29461219 0.19819095 0.1333057\n",
      "  0.08908532 0.05885656 0.0382857  0.02442409 0.01519488 0.00910603\n",
      "  0.00506383 0.00224628 0.        ]\n",
      " [1.         0.48496789 0.27360205 0.16921814 0.10965825 0.07240704\n",
      "  0.04793548 0.03151363 0.02044507 0.01302333 0.0080956  0.0048491\n",
      "  0.00269594 0.00119569 0.        ]\n",
      " [1.         0.         0.         0.         0.         0.\n",
      "  0.         0.         0.         0.         0.         0.\n",
      "  0.         0.         0.        ]]\n",
      "With shape: (10, 15)\n",
      "Results saved to file: ../examples/Data/N10_M15_res_python.csv.\n",
      "bye\n",
      "\n",
      "real\t0m0,204s\n",
      "user\t0m1,200s\n",
      "sys\t0m0,026s\n"
     ]
    }
   ],
   "source": [
    "!time python jacobi.py --config config.txt --result-path ../examples/Data/N10_M15_res_python.csv"
   ]
  },
  {
   "cell_type": "code",
   "execution_count": 34,
   "id": "6ea4b52e",
   "metadata": {},
   "outputs": [],
   "source": [
    "!clang-format -i ../src/*.cpp ../src/*.hpp ../test/*.cpp"
   ]
  },
  {
   "cell_type": "code",
   "execution_count": null,
   "id": "50f91780",
   "metadata": {},
   "outputs": [],
   "source": []
  }
 ],
 "metadata": {
  "kernelspec": {
   "display_name": "CompPhys",
   "language": "python",
   "name": "python3"
  },
  "language_info": {
   "codemirror_mode": {
    "name": "ipython",
    "version": 3
   },
   "file_extension": ".py",
   "mimetype": "text/x-python",
   "name": "python",
   "nbconvert_exporter": "python",
   "pygments_lexer": "ipython3",
   "version": "3.9.18"
  }
 },
 "nbformat": 4,
 "nbformat_minor": 5
}
