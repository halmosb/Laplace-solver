{
 "cells": [
  {
   "cell_type": "code",
   "execution_count": 1,
   "id": "6016ab1c",
   "metadata": {},
   "outputs": [],
   "source": [
    "import numpy as np\n",
    "import pandas as pd\n",
    "import matplotlib.pyplot as plt\n",
    "\n",
    "from functions import *\n",
    "from jacobi import *"
   ]
  },
  {
   "cell_type": "code",
   "execution_count": 2,
   "id": "531fe0e4",
   "metadata": {},
   "outputs": [],
   "source": [
    "%load_ext autoreload\n",
    "%autoreload 2"
   ]
  },
  {
   "cell_type": "code",
   "execution_count": 51,
   "id": "6352581c",
   "metadata": {},
   "outputs": [
    {
     "name": "stdout",
     "output_type": "stream",
     "text": [
      "-- HDF5 CXX compiler wrapper is unable to compile a minimal HDF5 program.\n",
      "-- Test source: /home/balazs/Desktop/University/Research/Practice/Laplace/test/test_HDF5Writer.cpp\n",
      "-- Test source: /home/balazs/Desktop/University/Research/Practice/Laplace/test/test_filehandler.cpp\n",
      "-- Test source: /home/balazs/Desktop/University/Research/Practice/Laplace/test/test_parser.cpp\n",
      "-- Test source: /home/balazs/Desktop/University/Research/Practice/Laplace/test/test_utilities.cpp\n",
      "-- Configuring done (0.3s)\n",
      "-- Generating done (0.0s)\n",
      "-- Build files have been written to: /home/balazs/Desktop/University/Research/Practice/Laplace/build\n",
      "[  8%] Built target gtest\n",
      "[ 12%] \u001b[32mBuilding CXX object src/CMakeFiles/laplace_lib.dir/parser.cpp.o\u001b[0m\n",
      "[ 16%] \u001b[32mBuilding CXX object src/CMakeFiles/laplace_lib.dir/calculator.cpp.o\u001b[0m\n",
      "[ 25%] Built target gtest_main\n",
      "[ 33%] Built target gmock\n",
      "[ 37%] \u001b[32mBuilding CXX object src/CMakeFiles/laplace_lib.dir/utilities.cpp.o\u001b[0m\n",
      "[ 41%] \u001b[32mBuilding CXX object src/CMakeFiles/laplace_lib.dir/HDF5Writer.cpp.o\u001b[0m\n",
      "[ 50%] Built target gmock_main\n",
      "[ 54%] \u001b[32m\u001b[1mLinking CXX static library liblaplace_lib.a\u001b[0m\n",
      "[ 58%] Built target laplace_lib\n",
      "[ 62%] \u001b[32m\u001b[1mLinking CXX executable test_filehandler\u001b[0m\n",
      "[ 66%] \u001b[32mBuilding CXX object test/CMakeFiles/test_HDF5Writer.dir/test_HDF5Writer.cpp.o\u001b[0m\n",
      "[ 70%] \u001b[32mBuilding CXX object src/CMakeFiles/laplace.dir/main.cpp.o\u001b[0m\n",
      "[ 75%] \u001b[32mBuilding CXX object test/CMakeFiles/test_parser.dir/test_parser.cpp.o\u001b[0m\n",
      "[ 79%] Built target test_filehandler\n",
      "[ 83%] \u001b[32mBuilding CXX object test/CMakeFiles/test_utilities.dir/test_utilities.cpp.o\u001b[0m\n",
      "[ 87%] \u001b[32m\u001b[1mLinking CXX executable laplace\u001b[0m\n",
      "[ 87%] Built target laplace\n",
      "[ 91%] \u001b[32m\u001b[1mLinking CXX executable test_utilities\u001b[0m\n",
      "[ 95%] \u001b[32m\u001b[1mLinking CXX executable test_HDF5Writer\u001b[0m\n",
      "[ 95%] Built target test_utilities\n",
      "[ 95%] Built target test_HDF5Writer\n",
      "[100%] \u001b[32m\u001b[1mLinking CXX executable test_parser\u001b[0m\n",
      "[100%] Built target test_parser\n",
      "/home/balazs/Desktop/University/Research/Practice/Laplace/examples\n"
     ]
    }
   ],
   "source": [
    "%%bash\n",
    "mkdir -p ../build\n",
    "cd ../build\n",
    "cmake ../\n",
    "cmake --build . -j4\n",
    "cd -"
   ]
  },
  {
   "cell_type": "code",
   "execution_count": 52,
   "id": "d202c15f",
   "metadata": {},
   "outputs": [
    {
     "name": "stdout",
     "output_type": "stream",
     "text": [
      "Test project /home/balazs/Desktop/University/Research/Practice/Laplace/build\n",
      "      Start  1: HDF5WriterTest.WritesParametersCorrectly\n",
      " 1/19 Test  #1: HDF5WriterTest.WritesParametersCorrectly .......   Passed    0.01 sec\n",
      "      Start  2: HDF5WriterTest.WritesResultDatasetCorrectly\n"
     ]
    },
    {
     "name": "stdout",
     "output_type": "stream",
     "text": [
      " 2/19 Test  #2: HDF5WriterTest.WritesResultDatasetCorrectly ....   Passed    0.01 sec\n",
      "      Start  3: HDF5WriterTest.CreatesExpectedFileStructure\n",
      " 3/19 Test  #3: HDF5WriterTest.CreatesExpectedFileStructure ....   Passed    0.01 sec\n",
      "      Start  4: HDF5WriterTest.OverwritesFileOnCreation\n",
      " 4/19 Test  #4: HDF5WriterTest.OverwritesFileOnCreation ........   Passed    0.01 sec\n",
      "      Start  5: FileHandlerTest.ValidReadAndWrite\n",
      " 5/19 Test  #5: FileHandlerTest.ValidReadAndWrite ..............   Passed    0.00 sec\n",
      "      Start  6: FileHandlerTest.InvalidFileReadThrows\n",
      " 6/19 Test  #6: FileHandlerTest.InvalidFileReadThrows ..........   Passed    0.00 sec\n",
      "      Start  7: FileHandlerTest.InconsistentRowLengthsThrows\n",
      " 7/19 Test  #7: FileHandlerTest.InconsistentRowLengthsThrows ...   Passed    0.00 sec\n",
      "      Start  8: FileHandlerTest.NonSquareMatrixThrows\n",
      " 8/19 Test  #8: FileHandlerTest.NonSquareMatrixThrows ..........   Passed    0.00 sec\n",
      "      Start  9: FileHandlerTest.InvalidNumberThrows\n",
      " 9/19 Test  #9: FileHandlerTest.InvalidNumberThrows ............   Passed    0.00 sec\n",
      "      Start 10: FileHandlerTest.EmptyFileThrows\n",
      "10/19 Test #10: FileHandlerTest.EmptyFileThrows ................   Passed    0.00 sec\n",
      "      Start 11: ParserTest.HelpMessageReturnsFalse\n",
      "11/19 Test #11: ParserTest.HelpMessageReturnsFalse .............   Passed    0.00 sec\n",
      "      Start 12: ParserTest.MissingRequiredArgsThrows\n",
      "12/19 Test #12: ParserTest.MissingRequiredArgsThrows ...........   Passed    0.00 sec\n",
      "      Start 13: ParserTest.ParsesRequiredArguments\n",
      "13/19 Test #13: ParserTest.ParsesRequiredArguments .............   Passed    0.00 sec\n",
      "      Start 14: ParserTest.ParsesAllArguments\n",
      "14/19 Test #14: ParserTest.ParsesAllArguments ..................   Passed    0.00 sec\n",
      "      Start 15: ParserTest.ParsesFromConfigFile\n",
      "15/19 Test #15: ParserTest.ParsesFromConfigFile ................   Passed    0.00 sec\n",
      "      Start 16: ParserTest.ConfigFileMissingThrows\n",
      "16/19 Test #16: ParserTest.ConfigFileMissingThrows .............   Passed    0.00 sec\n",
      "      Start 17: UtilitiesTest.PrintMatrix_2x2\n",
      "17/19 Test #17: UtilitiesTest.PrintMatrix_2x2 ..................   Passed    0.01 sec\n",
      "      Start 18: UtilitiesTest.PrintMatrix_EmptyMatrix\n",
      "18/19 Test #18: UtilitiesTest.PrintMatrix_EmptyMatrix ..........   Passed    0.01 sec\n",
      "      Start 19: UtilitiesTest.PrintMatrix_1x3\n",
      "19/19 Test #19: UtilitiesTest.PrintMatrix_1x3 ..................   Passed    0.01 sec\n",
      "\n",
      "\u001b[0;32m100% tests passed\u001b[0;0m, 0 tests failed\u001b[0;0m out of 19\n",
      "\n",
      "Total Test time (real) =   0.09 sec\n",
      "/home/balazs/Desktop/University/Research/Practice/Laplace/examples\n"
     ]
    }
   ],
   "source": [
    "%%bash\n",
    "cd ../build/\n",
    "ctest --output-on-failure\n",
    "cd -"
   ]
  },
  {
   "cell_type": "code",
   "execution_count": 3,
   "id": "2b3e21ec",
   "metadata": {},
   "outputs": [],
   "source": [
    "generate_ex1(10, \"Data\")"
   ]
  },
  {
   "cell_type": "code",
   "execution_count": 53,
   "id": "03965051",
   "metadata": {},
   "outputs": [
    {
     "name": "stdout",
     "output_type": "stream",
     "text": [
      "Laplace equation solver\n",
      "The used parameters are:\n",
      "\tN: 10\n",
      "\ttol: 0.001\n",
      "\tmax iter: 500\n",
      "\tinitial state path: ../examples/Data/data_N10.csv\n",
      "\tmask path: ../examples/Data/mask_N10.csv\n",
      "\tresult path: ../examples/Data/serial_res_N10\n",
      "\toutput: 2\n",
      "\tconfig path: ../examples/config.txt\n",
      "Calculation finished after 51 iterations, the result is:\n",
      "1, 0, 0, 0, 0, 0, 0, 0, 0, 0\n",
      "1, 0.484444, 0.272562, 0.167656, 0.107517, 0.0695193, 0.0439469, 0.0257791, 0.0118973, 0\n",
      "1, 0.665667, 0.438992, 0.291676, 0.194166, 0.12788, 0.081592, 0.0480866, 0.022241, 0\n",
      "1, 0.74008, 0.527651, 0.368015, 0.251992, 0.168617, 0.10853, 0.0642627, 0.0297909, 0\n",
      "1, 0.768146, 0.565656, 0.403605, 0.280398, 0.189272, 0.122443, 0.0727046, 0.0337513, 0\n",
      "1, 0.768146, 0.565656, 0.403605, 0.280398, 0.189272, 0.122443, 0.0727046, 0.0337513, 0\n",
      "1, 0.74008, 0.527651, 0.368015, 0.251992, 0.168617, 0.10853, 0.0642627, 0.0297909, 0\n",
      "1, 0.665667, 0.438992, 0.291676, 0.194166, 0.12788, 0.081592, 0.0480866, 0.022241, 0\n",
      "1, 0.484444, 0.272562, 0.167656, 0.107517, 0.0695193, 0.0439469, 0.0257791, 0.0118973, 0\n",
      "1, 0, 0, 0, 0, 0, 0, 0, 0, 0\n",
      "With shape: (10, 10)\n",
      "Results saved to file: ../examples/Data/serial_res_N10.\n",
      "bye\n",
      "\n",
      "real\t0m0,010s\n",
      "user\t0m0,005s\n",
      "sys\t0m0,004s\n"
     ]
    }
   ],
   "source": [
    "!time ../build/src/laplace --config ../examples/config.txt --result-path ../examples/Data/serial_res_N10"
   ]
  },
  {
   "cell_type": "code",
   "execution_count": 29,
   "id": "f3de7ad2",
   "metadata": {},
   "outputs": [
    {
     "name": "stdout",
     "output_type": "stream",
     "text": [
      "Laplace equation solver\n",
      "The used parameters are:\n",
      "\tN: 10\n",
      "\ttol: 0.001\n",
      "\tmax iter: 500\n",
      "\tinitial state path: ../examples/Data/data_N10.csv\n",
      "\tresult path: ../examples/Data/python_res_N10.csv\n",
      "\tmask path: ../examples/Data/mask_N10.csv\n",
      "\toutput: 2\n",
      "\tconfig path: config.txt\n",
      "Calulation finished after 51 iterations, the result is:\n",
      "[[1.         0.         0.         0.         0.         0.\n",
      "  0.         0.         0.         0.        ]\n",
      " [1.         0.48444444 0.2725621  0.16765583 0.10751662 0.06951925\n",
      "  0.04394686 0.02577907 0.01189731 0.        ]\n",
      " [1.         0.66566732 0.43899217 0.2916763  0.19416625 0.12787963\n",
      "  0.08159195 0.04808656 0.02224099 0.        ]\n",
      " [1.         0.74008034 0.52765147 0.3680149  0.2519918  0.16861724\n",
      "  0.10853033 0.06426273 0.02979093 0.        ]\n",
      " [1.         0.76814581 0.56565643 0.40360458 0.28039804 0.18927195\n",
      "  0.12244285 0.07270464 0.0337513  0.        ]\n",
      " [1.         0.76814581 0.56565643 0.40360458 0.28039804 0.18927195\n",
      "  0.12244285 0.07270464 0.0337513  0.        ]\n",
      " [1.         0.74008034 0.52765147 0.3680149  0.2519918  0.16861724\n",
      "  0.10853033 0.06426273 0.02979093 0.        ]\n",
      " [1.         0.66566732 0.43899217 0.2916763  0.19416625 0.12787963\n",
      "  0.08159195 0.04808656 0.02224099 0.        ]\n",
      " [1.         0.48444444 0.2725621  0.16765583 0.10751662 0.06951925\n",
      "  0.04394686 0.02577907 0.01189731 0.        ]\n",
      " [1.         0.         0.         0.         0.         0.\n",
      "  0.         0.         0.         0.        ]]\n",
      "With shape: (10, 10)\n",
      "Results saved to file: ../examples/Data/python_res_N10.csv.\n",
      "bye\n",
      "\n",
      "real\t0m0,183s\n",
      "user\t0m1,239s\n",
      "sys\t0m0,022s\n"
     ]
    }
   ],
   "source": [
    "!time python jacobi.py --config config.txt --result-path ../examples/Data/python_res_N10.csv"
   ]
  }
 ],
 "metadata": {
  "kernelspec": {
   "display_name": "CompPhys",
   "language": "python",
   "name": "python3"
  },
  "language_info": {
   "codemirror_mode": {
    "name": "ipython",
    "version": 3
   },
   "file_extension": ".py",
   "mimetype": "text/x-python",
   "name": "python",
   "nbconvert_exporter": "python",
   "pygments_lexer": "ipython3",
   "version": "3.9.18"
  }
 },
 "nbformat": 4,
 "nbformat_minor": 5
}
