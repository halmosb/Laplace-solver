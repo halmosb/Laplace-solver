{
 "cells": [
  {
   "cell_type": "code",
   "execution_count": 114,
   "id": "6016ab1c",
   "metadata": {},
   "outputs": [],
   "source": [
    "import numpy as np\n",
    "import pandas as pd\n",
    "import matplotlib.pyplot as plt\n",
    "\n",
    "from functions import *\n",
    "from jacobi import *"
   ]
  },
  {
   "cell_type": "code",
   "execution_count": 10,
   "id": "531fe0e4",
   "metadata": {},
   "outputs": [],
   "source": [
    "%load_ext autoreload\n",
    "%autoreload 2"
   ]
  },
  {
   "cell_type": "code",
   "execution_count": 103,
   "id": "6352581c",
   "metadata": {},
   "outputs": [
    {
     "name": "stdout",
     "output_type": "stream",
     "text": [
      "-- The C compiler identification is GNU 13.3.0\n",
      "-- The CXX compiler identification is GNU 13.3.0\n",
      "-- Detecting C compiler ABI info\n",
      "-- Detecting C compiler ABI info - done\n",
      "-- Check for working C compiler: /usr/bin/cc - skipped\n",
      "-- Detecting C compile features\n",
      "-- Detecting C compile features - done\n",
      "-- Detecting CXX compiler ABI info\n",
      "-- Detecting CXX compiler ABI info - done\n",
      "-- Check for working CXX compiler: /usr/bin/c++ - skipped\n",
      "-- Detecting CXX compile features\n",
      "-- Detecting CXX compile features - done\n",
      "-- Found Boost: /usr/lib/x86_64-linux-gnu/cmake/Boost-1.83.0/BoostConfig.cmake (found version \"1.83.0\") found components: program_options \n",
      "-- HDF5 CXX compiler wrapper is unable to compile a minimal HDF5 program.\n",
      "-- Found HDF5: /usr/lib/x86_64-linux-gnu/hdf5/serial/libhdf5_cpp.so;/usr/lib/x86_64-linux-gnu/hdf5/serial/libhdf5.so (found version \"1.10.10\") found components: CXX \n",
      "-- Found OpenMP_C: -fopenmp (found version \"4.5\") \n",
      "-- Found OpenMP_CXX: -fopenmp (found version \"4.5\") \n",
      "-- Found OpenMP: TRUE (found version \"4.5\")  \n",
      "-- Found Python3: /home/balazs/anaconda3/envs/CompPhys/bin/python3 (found version \"3.9.18\") found components: Interpreter \n",
      "-- Performing Test CMAKE_HAVE_LIBC_PTHREAD\n",
      "-- Performing Test CMAKE_HAVE_LIBC_PTHREAD - Success\n",
      "-- Found Threads: TRUE  \n",
      "-- Test source: /home/balazs/Desktop/University/Research/Practice/Laplace/test/HDF5Writer_test.cpp\n",
      "-- Test source: /home/balazs/Desktop/University/Research/Practice/Laplace/test/calculator_test.cpp\n",
      "-- Test source: /home/balazs/Desktop/University/Research/Practice/Laplace/test/filehandler_test.cpp\n",
      "-- Test source: /home/balazs/Desktop/University/Research/Practice/Laplace/test/test_HDF5Writer.cpp\n",
      "-- Test source: /home/balazs/Desktop/University/Research/Practice/Laplace/test/test_filehandler.cpp\n",
      "-- Test source: /home/balazs/Desktop/University/Research/Practice/Laplace/test/test_parser.cpp\n",
      "-- Test source: /home/balazs/Desktop/University/Research/Practice/Laplace/test/test_utilities.cpp\n",
      "-- Test source: /home/balazs/Desktop/University/Research/Practice/Laplace/test/utilities_test.cpp\n",
      "-- Configuring done (2.1s)\n",
      "-- Generating done (0.0s)\n",
      "-- Build files have been written to: /home/balazs/Desktop/University/Research/Practice/Laplace/build\n",
      "[  5%] \u001b[32mBuilding CXX object _deps/googletest-build/googletest/CMakeFiles/gtest.dir/src/gtest-all.cc.o\u001b[0m\n",
      "[  5%] \u001b[32mBuilding CXX object src/CMakeFiles/laplace_lib.dir/parser.cpp.o\u001b[0m\n",
      "[  8%] \u001b[32mBuilding CXX object src/CMakeFiles/laplace_lib.dir/calculator.cpp.o\u001b[0m\n",
      "[ 11%] \u001b[32mBuilding CXX object src/CMakeFiles/laplace_lib.dir/filehandler.cpp.o\u001b[0m\n",
      "[ 14%] \u001b[32mBuilding CXX object src/CMakeFiles/laplace_lib.dir/utilities.cpp.o\u001b[0m\n",
      "[ 17%] \u001b[32mBuilding CXX object src/CMakeFiles/laplace_lib.dir/HDF5Writer.cpp.o\u001b[0m\n",
      "[ 20%] \u001b[32m\u001b[1mLinking CXX static library liblaplace_lib.a\u001b[0m\n",
      "[ 20%] Built target laplace_lib\n",
      "[ 26%] \u001b[32mBuilding CXX object src/CMakeFiles/laplace_serial.dir/main.cpp.o\u001b[0m\n",
      "[ 26%] \u001b[32mBuilding CXX object src/CMakeFiles/laplace.dir/main.cpp.o\u001b[0m\n",
      "[ 29%] \u001b[32m\u001b[1mLinking CXX executable laplace_serial\u001b[0m\n",
      "[ 32%] \u001b[32m\u001b[1mLinking CXX executable laplace\u001b[0m\n",
      "[ 32%] Built target laplace_serial\n",
      "[ 32%] Built target laplace\n",
      "[ 35%] \u001b[32m\u001b[1mLinking CXX static library ../../../lib/libgtest.a\u001b[0m\n",
      "[ 35%] Built target gtest\n",
      "[ 38%] \u001b[32mBuilding CXX object _deps/googletest-build/googlemock/CMakeFiles/gmock.dir/src/gmock-all.cc.o\u001b[0m\n",
      "[ 41%] \u001b[32mBuilding CXX object _deps/googletest-build/googletest/CMakeFiles/gtest_main.dir/src/gtest_main.cc.o\u001b[0m\n",
      "[ 44%] \u001b[32m\u001b[1mLinking CXX static library ../../../lib/libgtest_main.a\u001b[0m\n",
      "[ 44%] Built target gtest_main\n",
      "[ 47%] \u001b[32mBuilding CXX object test/CMakeFiles/filehandler_test.dir/filehandler_test.cpp.o\u001b[0m\n",
      "[ 50%] \u001b[32mBuilding CXX object test/CMakeFiles/calculator_test.dir/calculator_test.cpp.o\u001b[0m\n",
      "[ 52%] \u001b[32mBuilding CXX object test/CMakeFiles/HDF5Writer_test.dir/HDF5Writer_test.cpp.o\u001b[0m\n",
      "[ 55%] \u001b[32m\u001b[1mLinking CXX executable calculator_test\u001b[0m\n",
      "[ 58%] \u001b[32m\u001b[1mLinking CXX executable HDF5Writer_test\u001b[0m\n",
      "[ 61%] \u001b[32m\u001b[1mLinking CXX executable filehandler_test\u001b[0m\n",
      "[ 61%] Built target calculator_test\n",
      "[ 64%] \u001b[32mBuilding CXX object test/CMakeFiles/test_HDF5Writer.dir/test_HDF5Writer.cpp.o\u001b[0m\n",
      "[ 64%] Built target filehandler_test\n",
      "[ 67%] \u001b[32mBuilding CXX object test/CMakeFiles/test_filehandler.dir/test_filehandler.cpp.o\u001b[0m\n",
      "[ 70%] \u001b[32m\u001b[1mLinking CXX executable test_filehandler\u001b[0m\n",
      "[ 70%] Built target HDF5Writer_test\n",
      "[ 73%] \u001b[32mBuilding CXX object test/CMakeFiles/test_parser.dir/test_parser.cpp.o\u001b[0m\n",
      "[ 73%] Built target test_filehandler\n",
      "[ 76%] \u001b[32mBuilding CXX object test/CMakeFiles/test_utilities.dir/test_utilities.cpp.o\u001b[0m\n",
      "[ 79%] \u001b[32m\u001b[1mLinking CXX static library ../../../lib/libgmock.a\u001b[0m\n",
      "[ 79%] Built target gmock\n",
      "[ 82%] \u001b[32mBuilding CXX object test/CMakeFiles/utilities_test.dir/utilities_test.cpp.o\u001b[0m\n",
      "[ 85%] \u001b[32m\u001b[1mLinking CXX executable test_utilities\u001b[0m\n",
      "[ 88%] \u001b[32m\u001b[1mLinking CXX executable utilities_test\u001b[0m\n",
      "[ 91%] \u001b[32m\u001b[1mLinking CXX executable test_HDF5Writer\u001b[0m\n",
      "[ 91%] Built target test_utilities\n",
      "[ 94%] \u001b[32mBuilding CXX object _deps/googletest-build/googlemock/CMakeFiles/gmock_main.dir/src/gmock_main.cc.o\u001b[0m\n",
      "[ 94%] Built target utilities_test\n",
      "[ 94%] Built target test_HDF5Writer\n",
      "[ 97%] \u001b[32m\u001b[1mLinking CXX executable test_parser\u001b[0m\n",
      "[ 97%] Built target test_parser\n",
      "[100%] \u001b[32m\u001b[1mLinking CXX static library ../../../lib/libgmock_main.a\u001b[0m\n",
      "[100%] Built target gmock_main\n",
      "/home/balazs/Desktop/University/Research/Practice/Laplace/examples\n"
     ]
    }
   ],
   "source": [
    "%%bash\n",
    "rm -rf ../build/\n",
    "mkdir -p ../build\n",
    "cd ../build\n",
    "cmake ../ -DCMAKE_BUILD_TYPE=Release\n",
    "cmake --build . -j4\n",
    "cd -"
   ]
  },
  {
   "cell_type": "code",
   "execution_count": 104,
   "id": "d202c15f",
   "metadata": {},
   "outputs": [
    {
     "name": "stdout",
     "output_type": "stream",
     "text": [
      "Test project /home/balazs/Desktop/University/Research/Practice/Laplace/build\n",
      "      Start  1: HDF5WriterTest.WritesAndReadsHDF5\n",
      " 1/19 Test  #1: HDF5WriterTest.WritesAndReadsHDF5 .............   Passed    0.01 sec\n",
      "      Start  2: CalculatorTest.ConvergesOnKnownGrid\n",
      " 2/19 Test  #2: CalculatorTest.ConvergesOnKnownGrid ...........   Passed    0.01 sec\n",
      "      Start  3: FileHandlerTest.ThrowsOnNonExistentFile\n",
      " 3/19 Test  #3: FileHandlerTest.ThrowsOnNonExistentFile .......   Passed    0.00 sec\n",
      "      Start  4: FileHandlerTest.ReadsAndWritesCSVCorrectly\n",
      " 4/19 Test  #4: FileHandlerTest.ReadsAndWritesCSVCorrectly ....   Passed    0.00 sec\n",
      "      Start  5: HDF5WriterTest.WritesParametersCorrectly\n",
      " 5/19 Test  #5: HDF5WriterTest.WritesParametersCorrectly ......   Passed    0.01 sec\n",
      "      Start  6: HDF5WriterTest.WritesResultDatasetCorrectly\n",
      " 6/19 Test  #6: HDF5WriterTest.WritesResultDatasetCorrectly ...   Passed    0.01 sec\n",
      "      Start  7: HDF5WriterTest.CreatesExpectedFileStructure\n",
      " 7/19 Test  #7: HDF5WriterTest.CreatesExpectedFileStructure ...   Passed    0.01 sec\n",
      "      Start  8: HDF5WriterTest.OverwritesFileOnCreation\n",
      " 8/19 Test  #8: HDF5WriterTest.OverwritesFileOnCreation .......   Passed    0.01 sec\n",
      "      Start  9: ParserTest.HelpMessageReturnsFalse\n",
      " 9/19 Test  #9: ParserTest.HelpMessageReturnsFalse ............   Passed    0.00 sec\n",
      "      Start 10: ParserTest.MissingRequiredArgsThrows\n",
      "10/19 Test #10: ParserTest.MissingRequiredArgsThrows ..........   Passed    0.00 sec\n",
      "      Start 11: ParserTest.ParsesRequiredArguments\n",
      "11/19 Test #11: ParserTest.ParsesRequiredArguments ............   Passed    0.00 sec\n",
      "      Start 12: ParserTest.ParsesAllArguments\n",
      "12/19 Test #12: ParserTest.ParsesAllArguments .................   Passed    0.00 sec\n",
      "      Start 13: ParserTest.ParsesFromConfigFile\n",
      "13/19 Test #13: ParserTest.ParsesFromConfigFile ...............   Passed    0.00 sec\n",
      "      Start 14: ParserTest.ConfigFileMissingThrows\n",
      "14/19 Test #14: ParserTest.ConfigFileMissingThrows ............   Passed    0.00 sec\n",
      "      Start 15: UtilitiesTest.PrintMatrix_2x2\n",
      "15/19 Test #15: UtilitiesTest.PrintMatrix_2x2 .................   Passed    0.00 sec\n",
      "      Start 16: UtilitiesTest.PrintMatrix_EmptyMatrix\n",
      "16/19 Test #16: UtilitiesTest.PrintMatrix_EmptyMatrix .........   Passed    0.00 sec\n",
      "      Start 17: UtilitiesTest.PrintMatrix_1x3\n",
      "17/19 Test #17: UtilitiesTest.PrintMatrix_1x3 .................   Passed    0.01 sec\n",
      "      Start 18: UtilitiesTest.EndsWithTrue\n",
      "18/19 Test #18: UtilitiesTest.EndsWithTrue ....................   Passed    0.01 sec\n",
      "      Start 19: UtilitiesTest.EndsWithFalse\n",
      "19/19 Test #19: UtilitiesTest.EndsWithFalse ...................   Passed    0.01 sec\n",
      "\n",
      "\u001b[0;32m100% tests passed\u001b[0;0m, 0 tests failed\u001b[0;0m out of 19\n",
      "\n",
      "Total Test time (real) =   0.10 sec\n",
      "/home/balazs/Desktop/University/Research/Practice/Laplace/examples\n"
     ]
    }
   ],
   "source": [
    "%%bash\n",
    "cd ../build/\n",
    "ctest --output-on-failure\n",
    "cd -"
   ]
  },
  {
   "cell_type": "code",
   "execution_count": 105,
   "id": "2b3e21ec",
   "metadata": {},
   "outputs": [],
   "source": [
    "generate_ex1(10, 15, \"Data\")"
   ]
  },
  {
   "cell_type": "code",
   "execution_count": 119,
   "id": "267524c6",
   "metadata": {},
   "outputs": [
    {
     "name": "stdout",
     "output_type": "stream",
     "text": [
      "\n",
      "Generic options:\n",
      "  -h [ --help ]               Show the help message\n",
      "  --config arg                Path to the config file\n",
      "\n",
      "System options:\n",
      "  --N arg                     Width of the grid\n",
      "  --M arg                     Height of the grid\n",
      "  --initial-state arg         Path to the initial state file\n",
      "  --mask arg                  Path to the mask file\n",
      "  --result-path arg           Path to save the results file\n",
      "  --tol arg (=0.00100000005)  Tolerance\n",
      "  --max-iter arg (=1000)      Maximum number of iterations\n",
      "  --output arg (=2)           Amount of information printed\n",
      "\n",
      "\n",
      "real\t0m0,007s\n",
      "user\t0m0,002s\n",
      "sys\t0m0,005s\n"
     ]
    }
   ],
   "source": [
    "!time ../build/src/laplace_serial -h"
   ]
  },
  {
   "cell_type": "code",
   "execution_count": 108,
   "id": "03965051",
   "metadata": {},
   "outputs": [
    {
     "name": "stdout",
     "output_type": "stream",
     "text": [
      "OpenMP NOT enabled.\n",
      "Results saved to file: ../examples/Data/N10_M15_res_serial, using 55 iterations.\n",
      "bye\n",
      "\n",
      "real\t0m0,012s\n",
      "user\t0m0,008s\n",
      "sys\t0m0,009s\n"
     ]
    }
   ],
   "source": [
    "!time ../build/src/laplace_serial --config ../examples/config.txt --result-path ../examples/Data/N10_M15_res_serial"
   ]
  },
  {
   "cell_type": "code",
   "execution_count": 110,
   "id": "b2f6c505",
   "metadata": {},
   "outputs": [
    {
     "name": "stdout",
     "output_type": "stream",
     "text": [
      "OpenMP NOT enabled.\n",
      "Results saved to file: ../examples/Data/N10_M15_res_openMP_3, using 55 iterations.\n",
      "bye\n"
     ]
    },
    {
     "name": "stderr",
     "output_type": "stream",
     "text": [
      "\n",
      "real\t0m0,010s\n",
      "user\t0m0,006s\n",
      "sys\t0m0,004s\n"
     ]
    }
   ],
   "source": [
    "%%bash\n",
    "export OMP_NUM_THREADS=3\n",
    "time ../build/src/laplace_serial --config ../examples/config.txt --result-path ../examples/Data/N10_M15_res_openMP_3"
   ]
  },
  {
   "cell_type": "code",
   "execution_count": 111,
   "id": "f3de7ad2",
   "metadata": {},
   "outputs": [
    {
     "name": "stdout",
     "output_type": "stream",
     "text": [
      "Results saved to file: ../examples/Data/N10_M15_res_python.csv.\n",
      "bye\n",
      "\n",
      "real\t0m0,145s\n",
      "user\t0m1,122s\n",
      "sys\t0m0,058s\n"
     ]
    }
   ],
   "source": [
    "!time python jacobi.py --config config.txt --result-path ../examples/Data/N10_M15_res_python.csv"
   ]
  },
  {
   "cell_type": "code",
   "execution_count": 112,
   "id": "6ea4b52e",
   "metadata": {},
   "outputs": [],
   "source": [
    "!clang-format -i ../src/*.cpp ../src/*.hpp ../test/*.cpp"
   ]
  },
  {
   "cell_type": "code",
   "execution_count": 118,
   "id": "50f91780",
   "metadata": {},
   "outputs": [
    {
     "name": "stdout",
     "output_type": "stream",
     "text": [
      "[PASS] Data/N10_M15_res_serial.csv is close to Data/N10_M15_res_python.csv\n",
      "[PASS] Data/N10_M15_res_serial.h5 is close to Data/N10_M15_res_python.csv\n",
      "[PASS] Data/N10_M15_res_openMP_3.csv is close to Data/N10_M15_res_python.csv\n",
      "[PASS] Data/N10_M15_res_openMP_3.h5 is close to Data/N10_M15_res_python.csv\n"
     ]
    },
    {
     "data": {
      "text/plain": [
       "True"
      ]
     },
     "execution_count": 118,
     "metadata": {},
     "output_type": "execute_result"
    }
   ],
   "source": [
    "file_list = [\"Data/N10_M15_res_python.csv\", \n",
    "             \"Data/N10_M15_res_serial.csv\", \"Data/N10_M15_res_serial.h5\",\n",
    "             #\"Data/N10_M15_res_openMP_1.csv\", \"Data/N10_M15_res_openMP_1.h5\",\n",
    "             #\"Data/N10_M15_res_openMP_2.csv\", \"Data/N10_M15_res_openMP_2.h5\",\n",
    "             \"Data/N10_M15_res_openMP_3.csv\", \"Data/N10_M15_res_openMP_3.h5\",\n",
    "             #\"Data/N10_M15_res_openMP_4.csv\", \"Data/N10_M15_res_openMP_4.h5\",\n",
    "             ]\n",
    "reference_file = \"Data/N10_M15_res_python.csv\"\n",
    "compare_arrays(file_list, reference_file, rtol=1e-5, atol=1e-8)"
   ]
  }
 ],
 "metadata": {
  "kernelspec": {
   "display_name": "CompPhys",
   "language": "python",
   "name": "python3"
  },
  "language_info": {
   "codemirror_mode": {
    "name": "ipython",
    "version": 3
   },
   "file_extension": ".py",
   "mimetype": "text/x-python",
   "name": "python",
   "nbconvert_exporter": "python",
   "pygments_lexer": "ipython3",
   "version": "3.9.18"
  }
 },
 "nbformat": 4,
 "nbformat_minor": 5
}
