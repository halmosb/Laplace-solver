{
 "cells": [
  {
   "cell_type": "code",
   "execution_count": 114,
   "id": "6016ab1c",
   "metadata": {},
   "outputs": [],
   "source": [
    "import numpy as np\n",
    "import pandas as pd\n",
    "import matplotlib.pyplot as plt\n",
    "\n",
    "from functions import *\n",
    "from jacobi import *"
   ]
  },
  {
   "cell_type": "code",
   "execution_count": 10,
   "id": "531fe0e4",
   "metadata": {},
   "outputs": [],
   "source": [
    "%load_ext autoreload\n",
    "%autoreload 2"
   ]
  },
  {
   "cell_type": "code",
   "execution_count": null,
   "id": "6352581c",
   "metadata": {},
   "outputs": [],
   "source": [
    "%%bash\n",
    "rm -rf ../build/\n",
    "mkdir -p ../build\n",
    "cd ../build\n",
    "cmake ../ -DCMAKE_BUILD_TYPE=Release\n",
    "cmake --build . -j4\n",
    "cd -"
   ]
  },
  {
   "cell_type": "code",
   "execution_count": null,
   "id": "d202c15f",
   "metadata": {},
   "outputs": [],
   "source": [
    "%%bash\n",
    "cd ../build/\n",
    "ctest --output-on-failure\n",
    "cd -"
   ]
  },
  {
   "cell_type": "code",
   "execution_count": 105,
   "id": "2b3e21ec",
   "metadata": {},
   "outputs": [],
   "source": [
    "generate_ex1(10, 15, \"Data\")"
   ]
  },
  {
   "cell_type": "code",
   "execution_count": 119,
   "id": "267524c6",
   "metadata": {},
   "outputs": [
    {
     "name": "stdout",
     "output_type": "stream",
     "text": [
      "\n",
      "Generic options:\n",
      "  -h [ --help ]               Show the help message\n",
      "  --config arg                Path to the config file\n",
      "\n",
      "System options:\n",
      "  --N arg                     Width of the grid\n",
      "  --M arg                     Height of the grid\n",
      "  --initial-state arg         Path to the initial state file\n",
      "  --mask arg                  Path to the mask file\n",
      "  --result-path arg           Path to save the results file\n",
      "  --tol arg (=0.00100000005)  Tolerance\n",
      "  --max-iter arg (=1000)      Maximum number of iterations\n",
      "  --output arg (=2)           Amount of information printed\n",
      "\n",
      "\n",
      "real\t0m0,007s\n",
      "user\t0m0,002s\n",
      "sys\t0m0,005s\n"
     ]
    }
   ],
   "source": [
    "!time ../build/src/laplace_serial -h"
   ]
  },
  {
   "cell_type": "code",
   "execution_count": 108,
   "id": "03965051",
   "metadata": {},
   "outputs": [
    {
     "name": "stdout",
     "output_type": "stream",
     "text": [
      "OpenMP NOT enabled.\n",
      "Results saved to file: ../examples/Data/N10_M15_res_serial, using 55 iterations.\n",
      "bye\n",
      "\n",
      "real\t0m0,012s\n",
      "user\t0m0,008s\n",
      "sys\t0m0,009s\n"
     ]
    }
   ],
   "source": [
    "!time ../build/src/laplace_serial --config ../examples/config.txt --result-path ../examples/Data/N10_M15_res_serial"
   ]
  },
  {
   "cell_type": "code",
   "execution_count": 110,
   "id": "b2f6c505",
   "metadata": {},
   "outputs": [
    {
     "name": "stdout",
     "output_type": "stream",
     "text": [
      "OpenMP NOT enabled.\n",
      "Results saved to file: ../examples/Data/N10_M15_res_openMP_3, using 55 iterations.\n",
      "bye\n"
     ]
    },
    {
     "name": "stderr",
     "output_type": "stream",
     "text": [
      "\n",
      "real\t0m0,010s\n",
      "user\t0m0,006s\n",
      "sys\t0m0,004s\n"
     ]
    }
   ],
   "source": [
    "%%bash\n",
    "export OMP_NUM_THREADS=3\n",
    "time ../build/src/laplace_serial --config ../examples/config.txt --result-path ../examples/Data/N10_M15_res_openMP_3"
   ]
  },
  {
   "cell_type": "code",
   "execution_count": 111,
   "id": "f3de7ad2",
   "metadata": {},
   "outputs": [
    {
     "name": "stdout",
     "output_type": "stream",
     "text": [
      "Results saved to file: ../examples/Data/N10_M15_res_python.csv.\n",
      "bye\n",
      "\n",
      "real\t0m0,145s\n",
      "user\t0m1,122s\n",
      "sys\t0m0,058s\n"
     ]
    }
   ],
   "source": [
    "!time python jacobi.py --config config.txt --result-path ../examples/Data/N10_M15_res_python.csv"
   ]
  },
  {
   "cell_type": "code",
   "execution_count": 121,
   "id": "6ea4b52e",
   "metadata": {},
   "outputs": [],
   "source": [
    "!clang-format -i ../src/*.cpp ../src/*.hpp ../test/*.cpp"
   ]
  },
  {
   "cell_type": "code",
   "execution_count": 118,
   "id": "50f91780",
   "metadata": {},
   "outputs": [
    {
     "name": "stdout",
     "output_type": "stream",
     "text": [
      "[PASS] Data/N10_M15_res_serial.csv is close to Data/N10_M15_res_python.csv\n",
      "[PASS] Data/N10_M15_res_serial.h5 is close to Data/N10_M15_res_python.csv\n",
      "[PASS] Data/N10_M15_res_openMP_3.csv is close to Data/N10_M15_res_python.csv\n",
      "[PASS] Data/N10_M15_res_openMP_3.h5 is close to Data/N10_M15_res_python.csv\n"
     ]
    },
    {
     "data": {
      "text/plain": [
       "True"
      ]
     },
     "execution_count": 118,
     "metadata": {},
     "output_type": "execute_result"
    }
   ],
   "source": [
    "file_list = [\"Data/N10_M15_res_python.csv\", \n",
    "             \"Data/N10_M15_res_serial.csv\", \"Data/N10_M15_res_serial.h5\",\n",
    "             #\"Data/N10_M15_res_openMP_1.csv\", \"Data/N10_M15_res_openMP_1.h5\",\n",
    "             #\"Data/N10_M15_res_openMP_2.csv\", \"Data/N10_M15_res_openMP_2.h5\",\n",
    "             \"Data/N10_M15_res_openMP_3.csv\", \"Data/N10_M15_res_openMP_3.h5\",\n",
    "             #\"Data/N10_M15_res_openMP_4.csv\", \"Data/N10_M15_res_openMP_4.h5\",\n",
    "             ]\n",
    "reference_file = \"Data/N10_M15_res_python.csv\"\n",
    "compare_arrays(file_list, reference_file, rtol=1e-5, atol=1e-8)"
   ]
  }
 ],
 "metadata": {
  "kernelspec": {
   "display_name": "CompPhys",
   "language": "python",
   "name": "python3"
  },
  "language_info": {
   "codemirror_mode": {
    "name": "ipython",
    "version": 3
   },
   "file_extension": ".py",
   "mimetype": "text/x-python",
   "name": "python",
   "nbconvert_exporter": "python",
   "pygments_lexer": "ipython3",
   "version": "3.9.18"
  }
 },
 "nbformat": 4,
 "nbformat_minor": 5
}
