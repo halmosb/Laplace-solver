{
 "cells": [
  {
   "cell_type": "code",
   "execution_count": 9,
   "id": "6016ab1c",
   "metadata": {},
   "outputs": [],
   "source": [
    "import numpy as np\n",
    "import pandas as pd\n",
    "import matplotlib.pyplot as plt\n",
    "\n",
    "from functions import *\n",
    "from jacobi import *"
   ]
  },
  {
   "cell_type": "code",
   "execution_count": 10,
   "id": "531fe0e4",
   "metadata": {},
   "outputs": [],
   "source": [
    "%load_ext autoreload\n",
    "%autoreload 2"
   ]
  },
  {
   "cell_type": "code",
   "execution_count": 35,
   "id": "6352581c",
   "metadata": {},
   "outputs": [
    {
     "name": "stdout",
     "output_type": "stream",
     "text": [
      "-- HDF5 CXX compiler wrapper is unable to compile a minimal HDF5 program.\n",
      "-- Test source: /home/balazs/Desktop/University/Research/Practice/Laplace/test/test_HDF5Writer.cpp\n",
      "-- Test source: /home/balazs/Desktop/University/Research/Practice/Laplace/test/test_filehandler.cpp\n",
      "-- Test source: /home/balazs/Desktop/University/Research/Practice/Laplace/test/test_parser.cpp\n",
      "-- Test source: /home/balazs/Desktop/University/Research/Practice/Laplace/test/test_utilities.cpp\n",
      "-- Configuring done (0.8s)\n",
      "-- Generating done (0.0s)\n",
      "-- Build files have been written to: /home/balazs/Desktop/University/Research/Practice/Laplace/build\n",
      "[  8%] Built target gtest\n",
      "[ 12%] \u001b[32mBuilding CXX object src/CMakeFiles/laplace_lib.dir/parser.cpp.o\u001b[0m\n",
      "[ 16%] \u001b[32mBuilding CXX object src/CMakeFiles/laplace_lib.dir/calculator.cpp.o\u001b[0m\n",
      "[ 25%] Built target gmock\n",
      "[ 33%] Built target gtest_main\n",
      "[ 37%] \u001b[32mBuilding CXX object src/CMakeFiles/laplace_lib.dir/filehandler.cpp.o\u001b[0m\n",
      "[ 45%] Built target gmock_main\n",
      "[ 50%] \u001b[32mBuilding CXX object src/CMakeFiles/laplace_lib.dir/utilities.cpp.o\u001b[0m\n",
      "[ 54%] \u001b[32mBuilding CXX object src/CMakeFiles/laplace_lib.dir/HDF5Writer.cpp.o\u001b[0m\n",
      "[ 58%] \u001b[32m\u001b[1mLinking CXX static library liblaplace_lib.a\u001b[0m\n",
      "[ 58%] Built target laplace_lib\n",
      "[ 62%] \u001b[32m\u001b[1mLinking CXX executable test_filehandler\u001b[0m\n",
      "[ 66%] \u001b[32mBuilding CXX object test/CMakeFiles/test_parser.dir/test_parser.cpp.o\u001b[0m\n",
      "[ 70%] \u001b[32m\u001b[1mLinking CXX executable test_HDF5Writer\u001b[0m\n",
      "[ 75%] \u001b[32mBuilding CXX object src/CMakeFiles/laplace.dir/main.cpp.o\u001b[0m\n",
      "[ 79%] Built target test_filehandler\n",
      "[ 83%] \u001b[32m\u001b[1mLinking CXX executable test_utilities\u001b[0m\n",
      "[ 87%] Built target test_HDF5Writer\n",
      "[ 91%] Built target test_utilities\n",
      "[ 95%] \u001b[32m\u001b[1mLinking CXX executable laplace\u001b[0m\n",
      "[ 95%] Built target laplace\n",
      "[100%] \u001b[32m\u001b[1mLinking CXX executable test_parser\u001b[0m\n",
      "[100%] Built target test_parser\n",
      "/home/balazs/Desktop/University/Research/Practice/Laplace/examples\n"
     ]
    }
   ],
   "source": [
    "%%bash\n",
    "mkdir -p ../build\n",
    "cd ../build\n",
    "cmake ../\n",
    "cmake --build . -j4\n",
    "cd -"
   ]
  },
  {
   "cell_type": "code",
   "execution_count": 36,
   "id": "d202c15f",
   "metadata": {},
   "outputs": [
    {
     "name": "stdout",
     "output_type": "stream",
     "text": [
      "Test project /home/balazs/Desktop/University/Research/Practice/Laplace/build\n",
      "      Start  1: HDF5WriterTest.WritesParametersCorrectly\n"
     ]
    },
    {
     "name": "stdout",
     "output_type": "stream",
     "text": [
      " 1/13 Test  #1: HDF5WriterTest.WritesParametersCorrectly ......   Passed    0.02 sec\n",
      "      Start  2: HDF5WriterTest.WritesResultDatasetCorrectly\n",
      " 2/13 Test  #2: HDF5WriterTest.WritesResultDatasetCorrectly ...   Passed    0.02 sec\n",
      "      Start  3: HDF5WriterTest.CreatesExpectedFileStructure\n",
      " 3/13 Test  #3: HDF5WriterTest.CreatesExpectedFileStructure ...   Passed    0.01 sec\n",
      "      Start  4: HDF5WriterTest.OverwritesFileOnCreation\n",
      " 4/13 Test  #4: HDF5WriterTest.OverwritesFileOnCreation .......   Passed    0.01 sec\n",
      "      Start  5: ParserTest.HelpMessageReturnsFalse\n",
      " 5/13 Test  #5: ParserTest.HelpMessageReturnsFalse ............   Passed    0.00 sec\n",
      "      Start  6: ParserTest.MissingRequiredArgsThrows\n",
      " 6/13 Test  #6: ParserTest.MissingRequiredArgsThrows ..........   Passed    0.00 sec\n",
      "      Start  7: ParserTest.ParsesRequiredArguments\n",
      " 7/13 Test  #7: ParserTest.ParsesRequiredArguments ............   Passed    0.01 sec\n",
      "      Start  8: ParserTest.ParsesAllArguments\n",
      " 8/13 Test  #8: ParserTest.ParsesAllArguments .................   Passed    0.00 sec\n",
      "      Start  9: ParserTest.ParsesFromConfigFile\n",
      " 9/13 Test  #9: ParserTest.ParsesFromConfigFile ...............   Passed    0.01 sec\n",
      "      Start 10: ParserTest.ConfigFileMissingThrows\n",
      "10/13 Test #10: ParserTest.ConfigFileMissingThrows ............   Passed    0.01 sec\n",
      "      Start 11: UtilitiesTest.PrintMatrix_2x2\n",
      "11/13 Test #11: UtilitiesTest.PrintMatrix_2x2 .................   Passed    0.02 sec\n",
      "      Start 12: UtilitiesTest.PrintMatrix_EmptyMatrix\n",
      "12/13 Test #12: UtilitiesTest.PrintMatrix_EmptyMatrix .........   Passed    0.03 sec\n",
      "      Start 13: UtilitiesTest.PrintMatrix_1x3\n",
      "13/13 Test #13: UtilitiesTest.PrintMatrix_1x3 .................   Passed    0.02 sec\n",
      "\n",
      "\u001b[0;32m100% tests passed\u001b[0;0m, 0 tests failed\u001b[0;0m out of 13\n",
      "\n",
      "Total Test time (real) =   0.19 sec\n",
      "/home/balazs/Desktop/University/Research/Practice/Laplace/examples\n"
     ]
    }
   ],
   "source": [
    "%%bash\n",
    "cd ../build/\n",
    "ctest --output-on-failure\n",
    "cd -"
   ]
  },
  {
   "cell_type": "code",
   "execution_count": 23,
   "id": "2b3e21ec",
   "metadata": {},
   "outputs": [],
   "source": [
    "generate_ex1(10, 15, \"Data\")"
   ]
  },
  {
   "cell_type": "code",
   "execution_count": 37,
   "id": "03965051",
   "metadata": {},
   "outputs": [
    {
     "name": "stdout",
     "output_type": "stream",
     "text": [
      "Laplace equation solver\n",
      "The used parameters are:\n",
      "\tN: 10\n",
      "\ttol: 0.001\n",
      "\tmax iter: 500\n",
      "\tinitial state path: ../examples/Data/N10_M15_data.csv\n",
      "\tmask path: ../examples/Data/N10_M15_mask.csv\n",
      "\tresult path: ../examples/Data/N10_M15_res_serial\n",
      "\toutput: 2\n",
      "\tconfig path: ../examples/config.txt\n",
      "Calculation finished after 55 iterations, the result is:\n",
      "1, 0, 0, 0, 0, 0, 0, 0, 0, 0, 0, 0, 0, 0, 0\n",
      "1, 0.484968, 0.273602, 0.169218, 0.109658, 0.072407, 0.0479355, 0.0315136, 0.0204451, 0.0130233, 0.0080956, 0.0048491, 0.00269594, 0.00119569, 0\n",
      "1, 0.666651, 0.440947, 0.294612, 0.198191, 0.133306, 0.0890853, 0.0588566, 0.0382857, 0.0244241, 0.0151949, 0.00910603, 0.00506383, 0.00224628, 0\n",
      "1, 0.741406, 0.530285, 0.37197, 0.257413, 0.175926, 0.118622, 0.0787617, 0.0513783, 0.0328283, 0.0204425, 0.0122571, 0.00681833, 0.00302494, 0\n",
      "1, 0.769653, 0.568651, 0.408102, 0.286563, 0.197582, 0.133915, 0.089184, 0.0582777, 0.0372744, 0.0232244, 0.01393, 0.00775033, 0.00343882, 0\n",
      "1, 0.769653, 0.568651, 0.408102, 0.286563, 0.197582, 0.133915, 0.089184, 0.0582777, 0.0372744, 0.0232244, 0.01393, 0.00775033, 0.00343882, 0\n",
      "1, 0.741406, 0.530285, 0.37197, 0.257413, 0.175926, 0.118622, 0.0787617, 0.0513783, 0.0328283, 0.0204425, 0.0122571, 0.00681833, 0.00302494, 0\n",
      "1, 0.666651, 0.440947, 0.294612, 0.198191, 0.133306, 0.0890853, 0.0588566, 0.0382857, 0.0244241, 0.0151949, 0.00910603, 0.00506383, 0.00224628, 0\n",
      "1, 0.484968, 0.273602, 0.169218, 0.109658, 0.072407, 0.0479355, 0.0315136, 0.0204451, 0.0130233, 0.0080956, 0.0048491, 0.00269594, 0.00119569, 0\n",
      "1, 0, 0, 0, 0, 0, 0, 0, 0, 0, 0, 0, 0, 0, 0\n",
      "With shape: (10, 15)\n",
      "Results saved to file: ../examples/Data/N10_M15_res_serial.\n",
      "bye\n",
      "\n",
      "real\t0m0,018s\n",
      "user\t0m0,009s\n",
      "sys\t0m0,008s\n"
     ]
    }
   ],
   "source": [
    "!time ../build/src/laplace --config ../examples/config.txt --result-path ../examples/Data/N10_M15_res_serial"
   ]
  },
  {
   "cell_type": "code",
   "execution_count": 24,
   "id": "f3de7ad2",
   "metadata": {},
   "outputs": [
    {
     "name": "stdout",
     "output_type": "stream",
     "text": [
      "Laplace equation solver\n",
      "The used parameters are:\n",
      "\tN: 10\n",
      "\ttol: 0.001\n",
      "\tmax iter: 500\n",
      "\tinitial state path: ../examples/Data/N10_M15_data.csv\n",
      "\tresult path: ../examples/Data/N10_M15_res_python.csv\n",
      "\tmask path: ../examples/Data/N10_M15_mask.csv\n",
      "\toutput: 2\n",
      "\tconfig path: config.txt\n",
      "Calulation finished after 55 iterations, the result is:\n",
      "[[1.         0.         0.         0.         0.         0.\n",
      "  0.         0.         0.         0.         0.         0.\n",
      "  0.         0.         0.        ]\n",
      " [1.         0.48496789 0.27360205 0.16921814 0.10965825 0.07240704\n",
      "  0.04793548 0.03151363 0.02044507 0.01302333 0.0080956  0.0048491\n",
      "  0.00269594 0.00119569 0.        ]\n",
      " [1.         0.666651   0.4409467  0.29461219 0.19819095 0.1333057\n",
      "  0.08908532 0.05885656 0.0382857  0.02442409 0.01519488 0.00910603\n",
      "  0.00506383 0.00224628 0.        ]\n",
      " [1.         0.74140569 0.53028459 0.37197032 0.25741348 0.17592622\n",
      "  0.11862171 0.07876175 0.05137831 0.03282834 0.02044248 0.01225705\n",
      "  0.00681833 0.00302494 0.        ]\n",
      " [1.         0.76965288 0.56865072 0.40810225 0.28656297 0.19758212\n",
      "  0.13391518 0.08918396 0.05827767 0.03727437 0.02322441 0.01392996\n",
      "  0.00775032 0.00343882 0.        ]\n",
      " [1.         0.76965288 0.56865072 0.40810225 0.28656297 0.19758212\n",
      "  0.13391518 0.08918396 0.05827767 0.03727437 0.02322441 0.01392996\n",
      "  0.00775032 0.00343882 0.        ]\n",
      " [1.         0.74140569 0.53028459 0.37197032 0.25741348 0.17592622\n",
      "  0.11862171 0.07876175 0.05137831 0.03282834 0.02044248 0.01225705\n",
      "  0.00681833 0.00302494 0.        ]\n",
      " [1.         0.666651   0.4409467  0.29461219 0.19819095 0.1333057\n",
      "  0.08908532 0.05885656 0.0382857  0.02442409 0.01519488 0.00910603\n",
      "  0.00506383 0.00224628 0.        ]\n",
      " [1.         0.48496789 0.27360205 0.16921814 0.10965825 0.07240704\n",
      "  0.04793548 0.03151363 0.02044507 0.01302333 0.0080956  0.0048491\n",
      "  0.00269594 0.00119569 0.        ]\n",
      " [1.         0.         0.         0.         0.         0.\n",
      "  0.         0.         0.         0.         0.         0.\n",
      "  0.         0.         0.        ]]\n",
      "With shape: (10, 15)\n",
      "Results saved to file: ../examples/Data/N10_M15_res_python.csv.\n",
      "bye\n",
      "\n",
      "real\t0m0,204s\n",
      "user\t0m1,200s\n",
      "sys\t0m0,026s\n"
     ]
    }
   ],
   "source": [
    "!time python jacobi.py --config config.txt --result-path ../examples/Data/N10_M15_res_python.csv"
   ]
  },
  {
   "cell_type": "code",
   "execution_count": 34,
   "id": "6ea4b52e",
   "metadata": {},
   "outputs": [],
   "source": [
    "!clang-format -i ../src/*.cpp ../src/*.hpp ../test/*.cpp"
   ]
  },
  {
   "cell_type": "code",
   "execution_count": null,
   "id": "50f91780",
   "metadata": {},
   "outputs": [],
   "source": []
  }
 ],
 "metadata": {
  "kernelspec": {
   "display_name": "CompPhys",
   "language": "python",
   "name": "python3"
  },
  "language_info": {
   "codemirror_mode": {
    "name": "ipython",
    "version": 3
   },
   "file_extension": ".py",
   "mimetype": "text/x-python",
   "name": "python",
   "nbconvert_exporter": "python",
   "pygments_lexer": "ipython3",
   "version": "3.9.18"
  }
 },
 "nbformat": 4,
 "nbformat_minor": 5
}
