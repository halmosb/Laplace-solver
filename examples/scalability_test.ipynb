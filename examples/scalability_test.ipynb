{
 "cells": [
  {
   "cell_type": "code",
   "execution_count": 1,
   "id": "db8a3218",
   "metadata": {},
   "outputs": [],
   "source": [
    "from functions import *"
   ]
  },
  {
   "cell_type": "code",
   "execution_count": 2,
   "id": "9a481604",
   "metadata": {},
   "outputs": [],
   "source": [
    "generate_ex1(3000, 6500, \"Test-Data\")"
   ]
  },
  {
   "cell_type": "code",
   "execution_count": 11,
   "id": "41173af7",
   "metadata": {},
   "outputs": [
    {
     "name": "stdout",
     "output_type": "stream",
     "text": [
      "OpenMP NOT enabled.\n",
      "Results saved to file: ../examples/Test-Data/N3000_M6500_res_serial, using 242 iterations.\n",
      "bye\n",
      "\n",
      "real\t0m20,455s\n",
      "user\t1m39,447s\n",
      "sys\t0m0,703s\n"
     ]
    }
   ],
   "source": [
    "!time ../build/src/laplace_serial --config ../examples/config.txt --result-path ../examples/Test-Data/N3000_M6500_res_serial"
   ]
  },
  {
   "cell_type": "code",
   "execution_count": 12,
   "id": "6a816bc7",
   "metadata": {},
   "outputs": [
    {
     "name": "stdout",
     "output_type": "stream",
     "text": [
      "OpenMP enabled. Threads: 1\n",
      "Results saved to file: ../examples/Test-Data/N3000_M6500_res_openMP_1, using 242 iterations.\n",
      "bye\n"
     ]
    },
    {
     "name": "stderr",
     "output_type": "stream",
     "text": [
      "\n",
      "real\t0m47,835s\n",
      "user\t0m47,327s\n",
      "sys\t0m0,490s\n"
     ]
    },
    {
     "name": "stdout",
     "output_type": "stream",
     "text": [
      "OpenMP enabled. Threads: 2\n",
      "Results saved to file: ../examples/Test-Data/N3000_M6500_res_openMP_2, using 242 iterations.\n",
      "bye\n"
     ]
    },
    {
     "name": "stderr",
     "output_type": "stream",
     "text": [
      "\n",
      "real\t0m30,106s\n",
      "user\t0m47,938s\n",
      "sys\t0m0,483s\n"
     ]
    },
    {
     "name": "stdout",
     "output_type": "stream",
     "text": [
      "OpenMP enabled. Threads: 3\n",
      "Results saved to file: ../examples/Test-Data/N3000_M6500_res_openMP_3, using 242 iterations.\n",
      "bye\n"
     ]
    },
    {
     "name": "stderr",
     "output_type": "stream",
     "text": [
      "\n",
      "real\t0m24,210s\n",
      "user\t0m48,744s\n",
      "sys\t0m0,498s\n"
     ]
    },
    {
     "name": "stdout",
     "output_type": "stream",
     "text": [
      "OpenMP enabled. Threads: 4\n",
      "Results saved to file: ../examples/Test-Data/N3000_M6500_res_openMP_4, using 242 iterations.\n",
      "bye\n"
     ]
    },
    {
     "name": "stderr",
     "output_type": "stream",
     "text": [
      "\n",
      "real\t0m21,525s\n",
      "user\t0m49,506s\n",
      "sys\t0m0,504s\n"
     ]
    }
   ],
   "source": [
    "%%bash\n",
    "for ((i = 1; i <= 4; i++));\n",
    "do\n",
    "export OMP_NUM_THREADS=${i}\n",
    "time ../build/src/laplace --config ../examples/config.txt --result-path ../examples/Test-Data/N3000_M6500_res_openMP_${i}\n",
    "done"
   ]
  },
  {
   "cell_type": "code",
   "execution_count": null,
   "id": "c0bc88ff",
   "metadata": {},
   "outputs": [
    {
     "name": "stdout",
     "output_type": "stream",
     "text": [
      "Results saved to file: ../examples/Test-Data/N3000_M6500_res_python.\n",
      "bye\n",
      "\n",
      "real\t40m0,262s\n",
      "user\t39m47,755s\n",
      "sys\t0m13,278s\n"
     ]
    }
   ],
   "source": [
    "!time python jacobi.py --config ../examples/config.txt --result-path ../examples/Test-Data/N3000_M6500_res_python.csv"
   ]
  },
  {
   "cell_type": "code",
   "execution_count": 16,
   "id": "bbeb6d65",
   "metadata": {},
   "outputs": [
    {
     "name": "stdout",
     "output_type": "stream",
     "text": [
      "[PASS] Test-Data/N3000_M6500_res_serial.csv is close to Test-Data/N3000_M6500_res_python.csv\n",
      "[PASS] Test-Data/N3000_M6500_res_serial.h5 is close to Test-Data/N3000_M6500_res_python.csv\n",
      "[PASS] Test-Data/N3000_M6500_res_openMP_1.csv is close to Test-Data/N3000_M6500_res_python.csv\n",
      "[PASS] Test-Data/N3000_M6500_res_openMP_1.h5 is close to Test-Data/N3000_M6500_res_python.csv\n",
      "[PASS] Test-Data/N3000_M6500_res_openMP_2.csv is close to Test-Data/N3000_M6500_res_python.csv\n",
      "[PASS] Test-Data/N3000_M6500_res_openMP_2.h5 is close to Test-Data/N3000_M6500_res_python.csv\n",
      "[PASS] Test-Data/N3000_M6500_res_openMP_3.csv is close to Test-Data/N3000_M6500_res_python.csv\n",
      "[PASS] Test-Data/N3000_M6500_res_openMP_3.h5 is close to Test-Data/N3000_M6500_res_python.csv\n",
      "[PASS] Test-Data/N3000_M6500_res_openMP_4.csv is close to Test-Data/N3000_M6500_res_python.csv\n",
      "[PASS] Test-Data/N3000_M6500_res_openMP_4.h5 is close to Test-Data/N3000_M6500_res_python.csv\n"
     ]
    },
    {
     "data": {
      "text/plain": [
       "True"
      ]
     },
     "execution_count": 16,
     "metadata": {},
     "output_type": "execute_result"
    }
   ],
   "source": [
    "file_list = [\"Test-Data/N3000_M6500_res_python.csv\", \n",
    "             \"Test-Data/N3000_M6500_res_serial.csv\", \"Test-Data/N3000_M6500_res_serial.h5\",\n",
    "             \"Test-Data/N3000_M6500_res_openMP_1.csv\", \"Test-Data/N3000_M6500_res_openMP_1.h5\",\n",
    "             \"Test-Data/N3000_M6500_res_openMP_2.csv\", \"Test-Data/N3000_M6500_res_openMP_2.h5\",\n",
    "             \"Test-Data/N3000_M6500_res_openMP_3.csv\", \"Test-Data/N3000_M6500_res_openMP_3.h5\",\n",
    "             \"Test-Data/N3000_M6500_res_openMP_4.csv\", \"Test-Data/N3000_M6500_res_openMP_4.h5\",\n",
    "             ]\n",
    "reference_file = \"Test-Data/N3000_M6500_res_python.csv\"\n",
    "compare_arrays(file_list, reference_file, rtol=1e-5, atol=1e-8)"
   ]
  }
 ],
 "metadata": {
  "kernelspec": {
   "display_name": "CompPhys",
   "language": "python",
   "name": "python3"
  },
  "language_info": {
   "codemirror_mode": {
    "name": "ipython",
    "version": 3
   },
   "file_extension": ".py",
   "mimetype": "text/x-python",
   "name": "python",
   "nbconvert_exporter": "python",
   "pygments_lexer": "ipython3",
   "version": "3.9.18"
  }
 },
 "nbformat": 4,
 "nbformat_minor": 5
}
