{
 "cells": [
  {
   "cell_type": "code",
   "execution_count": 8,
   "id": "db8a3218",
   "metadata": {},
   "outputs": [],
   "source": [
    "from functions import *\n",
    "import numpy as np\n",
    "import matplotlib.pyplot as plt"
   ]
  },
  {
   "cell_type": "code",
   "execution_count": 2,
   "id": "9a481604",
   "metadata": {},
   "outputs": [],
   "source": [
    "generate_ex1(3000, 6500, \"Test-Data\")"
   ]
  },
  {
   "cell_type": "code",
   "execution_count": 11,
   "id": "41173af7",
   "metadata": {},
   "outputs": [
    {
     "name": "stdout",
     "output_type": "stream",
     "text": [
      "OpenMP NOT enabled.\n",
      "Results saved to file: ../examples/Test-Data/N3000_M6500_res_serial, using 242 iterations.\n",
      "bye\n",
      "\n",
      "real\t0m20,455s\n",
      "user\t1m39,447s\n",
      "sys\t0m0,703s\n"
     ]
    }
   ],
   "source": [
    "!time ../build/src/laplace_serial --config ../examples/config.txt --result-path ../examples/Test-Data/N3000_M6500_res_serial"
   ]
  },
  {
   "cell_type": "code",
   "execution_count": 12,
   "id": "6a816bc7",
   "metadata": {},
   "outputs": [
    {
     "name": "stdout",
     "output_type": "stream",
     "text": [
      "OpenMP enabled. Threads: 1\n",
      "Results saved to file: ../examples/Test-Data/N3000_M6500_res_openMP_1, using 242 iterations.\n",
      "bye\n"
     ]
    },
    {
     "name": "stderr",
     "output_type": "stream",
     "text": [
      "\n",
      "real\t0m47,835s\n",
      "user\t0m47,327s\n",
      "sys\t0m0,490s\n"
     ]
    },
    {
     "name": "stdout",
     "output_type": "stream",
     "text": [
      "OpenMP enabled. Threads: 2\n",
      "Results saved to file: ../examples/Test-Data/N3000_M6500_res_openMP_2, using 242 iterations.\n",
      "bye\n"
     ]
    },
    {
     "name": "stderr",
     "output_type": "stream",
     "text": [
      "\n",
      "real\t0m30,106s\n",
      "user\t0m47,938s\n",
      "sys\t0m0,483s\n"
     ]
    },
    {
     "name": "stdout",
     "output_type": "stream",
     "text": [
      "OpenMP enabled. Threads: 3\n",
      "Results saved to file: ../examples/Test-Data/N3000_M6500_res_openMP_3, using 242 iterations.\n",
      "bye\n"
     ]
    },
    {
     "name": "stderr",
     "output_type": "stream",
     "text": [
      "\n",
      "real\t0m24,210s\n",
      "user\t0m48,744s\n",
      "sys\t0m0,498s\n"
     ]
    },
    {
     "name": "stdout",
     "output_type": "stream",
     "text": [
      "OpenMP enabled. Threads: 4\n",
      "Results saved to file: ../examples/Test-Data/N3000_M6500_res_openMP_4, using 242 iterations.\n",
      "bye\n"
     ]
    },
    {
     "name": "stderr",
     "output_type": "stream",
     "text": [
      "\n",
      "real\t0m21,525s\n",
      "user\t0m49,506s\n",
      "sys\t0m0,504s\n"
     ]
    }
   ],
   "source": [
    "%%bash\n",
    "for ((i = 1; i <= 4; i++));\n",
    "do\n",
    "export OMP_NUM_THREADS=${i}\n",
    "time ../build/src/laplace --config ../examples/config.txt --result-path ../examples/Test-Data/N3000_M6500_res_openMP_${i}\n",
    "done"
   ]
  },
  {
   "cell_type": "code",
   "execution_count": 4,
   "id": "c0bc88ff",
   "metadata": {},
   "outputs": [
    {
     "name": "stdout",
     "output_type": "stream",
     "text": [
      "Results saved to file: ../examples/Test-Data/N3000_M6500_res_python.csv.\n",
      "bye\n",
      "Figure(640x480)\n",
      "\n",
      "real\t0m0,568s\n",
      "user\t0m1,562s\n",
      "sys\t0m0,064s\n"
     ]
    }
   ],
   "source": [
    "!time python jacobi.py --config ../examples/config.txt --result-path ../examples/Test-Data/N3000_M6500_res_python.csv"
   ]
  },
  {
   "cell_type": "code",
   "execution_count": 16,
   "id": "bbeb6d65",
   "metadata": {},
   "outputs": [
    {
     "name": "stdout",
     "output_type": "stream",
     "text": [
      "[PASS] Test-Data/N3000_M6500_res_serial.csv is close to Test-Data/N3000_M6500_res_python.csv\n",
      "[PASS] Test-Data/N3000_M6500_res_serial.h5 is close to Test-Data/N3000_M6500_res_python.csv\n",
      "[PASS] Test-Data/N3000_M6500_res_openMP_1.csv is close to Test-Data/N3000_M6500_res_python.csv\n",
      "[PASS] Test-Data/N3000_M6500_res_openMP_1.h5 is close to Test-Data/N3000_M6500_res_python.csv\n",
      "[PASS] Test-Data/N3000_M6500_res_openMP_2.csv is close to Test-Data/N3000_M6500_res_python.csv\n",
      "[PASS] Test-Data/N3000_M6500_res_openMP_2.h5 is close to Test-Data/N3000_M6500_res_python.csv\n",
      "[PASS] Test-Data/N3000_M6500_res_openMP_3.csv is close to Test-Data/N3000_M6500_res_python.csv\n",
      "[PASS] Test-Data/N3000_M6500_res_openMP_3.h5 is close to Test-Data/N3000_M6500_res_python.csv\n",
      "[PASS] Test-Data/N3000_M6500_res_openMP_4.csv is close to Test-Data/N3000_M6500_res_python.csv\n",
      "[PASS] Test-Data/N3000_M6500_res_openMP_4.h5 is close to Test-Data/N3000_M6500_res_python.csv\n"
     ]
    },
    {
     "data": {
      "text/plain": [
       "True"
      ]
     },
     "execution_count": 16,
     "metadata": {},
     "output_type": "execute_result"
    }
   ],
   "source": [
    "file_list = [\"Test-Data/N3000_M6500_res_python.csv\", \n",
    "             \"Test-Data/N3000_M6500_res_serial.csv\", \"Test-Data/N3000_M6500_res_serial.h5\",\n",
    "             \"Test-Data/N3000_M6500_res_openMP_1.csv\", \"Test-Data/N3000_M6500_res_openMP_1.h5\",\n",
    "             \"Test-Data/N3000_M6500_res_openMP_2.csv\", \"Test-Data/N3000_M6500_res_openMP_2.h5\",\n",
    "             \"Test-Data/N3000_M6500_res_openMP_3.csv\", \"Test-Data/N3000_M6500_res_openMP_3.h5\",\n",
    "             \"Test-Data/N3000_M6500_res_openMP_4.csv\", \"Test-Data/N3000_M6500_res_openMP_4.h5\",\n",
    "             ]\n",
    "reference_file = \"Test-Data/N3000_M6500_res_python.csv\"\n",
    "compare_arrays(file_list, reference_file, rtol=1e-5, atol=1e-8)"
   ]
  },
  {
   "cell_type": "code",
   "execution_count": 23,
   "id": "d1bfbc7c",
   "metadata": {},
   "outputs": [
    {
     "data": {
      "image/png": "[encoded data removed]",
      "text/plain": [
       "<Figure size 640x480 with 2 Axes>"
      ]
     },
     "metadata": {},
     "output_type": "display_data"
    }
   ],
   "source": [
    "data = np.loadtxt(\"Data/N10_M15_res_serial.csv\", delimiter=\" \")\n",
    "# Ploting the heatmap\n",
    "\n",
    "plt.rcParams.update({\n",
    "    \"text.usetex\": True,\n",
    "    \"font.size\": 16,\n",
    "    \"font.family\": \"serif\",\n",
    "})\n",
    "\n",
    "fig, ax = plt.subplots()\n",
    "\n",
    "# Show the heatmap\n",
    "cax = ax.imshow(data, cmap='hot')\n",
    "\n",
    "# Add colorbar with label\n",
    "cbar = fig.colorbar(cax, ax=ax)\n",
    "cbar.set_label(r\"Temperature (a. u.)\", fontsize=16)\n",
    "\n",
    "# Axis labels and title\n",
    "ax.set_xlabel(r\"$x$ (a.u.)\", fontsize=16)\n",
    "ax.set_ylabel(r\"$y$ (a.u.)\", fontsize=16)\n",
    "ax.set_title(r\"\\textbf{Solution}\", fontsize=18)\n",
    "\n",
    "# Tick label size\n",
    "ax.tick_params(labelsize=14)\n",
    "cbar.ax.tick_params(labelsize=14)\n",
    "\n",
    "plt.tight_layout()\n",
    "plt.savefig(\"solution.png\", dpi=300)\n",
    "plt.show()"
   ]
  }
 ],
 "metadata": {
  "kernelspec": {
   "display_name": "CompPhys",
   "language": "python",
   "name": "python3"
  },
  "language_info": {
   "codemirror_mode": {
    "name": "ipython",
    "version": 3
   },
   "file_extension": ".py",
   "mimetype": "text/x-python",
   "name": "python",
   "nbconvert_exporter": "python",
   "pygments_lexer": "ipython3",
   "version": "3.9.18"
  }
 },
 "nbformat": 4,
 "nbformat_minor": 5
}
